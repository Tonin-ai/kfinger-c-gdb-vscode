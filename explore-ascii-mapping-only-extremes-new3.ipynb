{
 "cells": [
  {
   "cell_type": "code",
   "execution_count": null,
   "id": "ecacbd00",
   "metadata": {},
   "outputs": [],
   "source": [
    "import re\n",
    "import time\n",
    "from collections import Counter"
   ]
  },
  {
   "cell_type": "markdown",
   "id": "8c7c1fd2",
   "metadata": {},
   "source": [
    "Il file di input deve essere di reads duplicati in cui l'id è terminato da `_1` (originale) oppure `_0` (dopo reverse and complement)."
   ]
  },
  {
   "cell_type": "markdown",
   "id": "f2212c2f",
   "metadata": {},
   "source": [
    "---\n",
    "\n",
    "Dimensione e minima lunghezza totale dei kmers:"
   ]
  },
  {
   "cell_type": "code",
   "execution_count": null,
   "id": "abfeda3e",
   "metadata": {},
   "outputs": [],
   "source": [
    "k = 7\n",
    "min_total_length = 40"
   ]
  },
  {
   "cell_type": "markdown",
   "id": "229cd287",
   "metadata": {},
   "source": [
    "---\n",
    "\n",
    "Minimo numero di kmers (unici) che due reads in overlap devono condividere (in assoluto):"
   ]
  },
  {
   "cell_type": "code",
   "execution_count": null,
   "id": "cbb826e1",
   "metadata": {},
   "outputs": [],
   "source": [
    "min_shared_kmers = 4"
   ]
  },
  {
   "cell_type": "markdown",
   "id": "88e4bd25",
   "metadata": {},
   "source": [
    "---\n",
    "\n",
    "Massimo numero di occorrenze di un kmer nei reads (valore compatibile con la coverage dell'input):"
   ]
  },
  {
   "cell_type": "code",
   "execution_count": null,
   "id": "cefe309b",
   "metadata": {},
   "outputs": [],
   "source": [
    "max_kmer_occurrence = -1"
   ]
  },
  {
   "cell_type": "markdown",
   "id": "f0204c9f",
   "metadata": {},
   "source": [
    "Un valore pari a -1 indica assenza del controllo."
   ]
  },
  {
   "cell_type": "markdown",
   "id": "3b282f0c",
   "metadata": {},
   "source": [
    "---\n",
    "\n",
    "Parametri di filtraggio delle regioni comuni in output:\n",
    "- massima differenza percentuale tra le lunghezze (bp) delle due stringhe della regione comune (mettere 0.0 nel caso di reads senza errore)\n",
    "\n",
    "- minima lunghezza (bp) delle due stringhe della regione comune"
   ]
  },
  {
   "cell_type": "code",
   "execution_count": null,
   "id": "de7a7386",
   "metadata": {},
   "outputs": [],
   "source": [
    "max_diff_region_percentage = 0.0\n",
    "min_region_length = 100"
   ]
  },
  {
   "cell_type": "markdown",
   "id": "e8cfed73",
   "metadata": {},
   "source": [
    "---\n",
    "\n",
    "Parametro di filtraggio delle regioni comuni:\n",
    "- minima percentuale di copertura dei kmers contigui rispetto alla lunghezza della regione comune.\n",
    "\n",
    "Una regione lunga L bp deve contenere almeno `%L/min_total_length`di kmers comuni"
   ]
  },
  {
   "cell_type": "code",
   "execution_count": null,
   "id": "01a38700",
   "metadata": {},
   "outputs": [],
   "source": [
    "min_region_kmer_coverage = 0.27"
   ]
  },
  {
   "cell_type": "markdown",
   "id": "d5d2b977",
   "metadata": {},
   "source": [
    "---\n",
    "\n",
    "Parametri di filtraggio degli overlap in output:\n",
    "- minima copertura percentuale (bp) della regione comune rispetto all'overlap\n",
    "- minima lunghezza dell'overlap da produrre in output (1200 per read senza errore)"
   ]
  },
  {
   "cell_type": "code",
   "execution_count": null,
   "id": "17180d41",
   "metadata": {},
   "outputs": [],
   "source": [
    "min_overlap_coverage = 0.70"
   ]
  },
  {
   "cell_type": "code",
   "execution_count": null,
   "id": "3717fa05",
   "metadata": {},
   "outputs": [],
   "source": [
    "min_overlap_length = 600"
   ]
  },
  {
   "cell_type": "markdown",
   "id": "817028d8",
   "metadata": {},
   "source": [
    "---"
   ]
  },
  {
   "cell_type": "code",
   "execution_count": null,
   "id": "076a0a7b",
   "metadata": {},
   "outputs": [],
   "source": [
    "start_time_begin = time.perf_counter()"
   ]
  },
  {
   "cell_type": "markdown",
   "id": "9d3e9f83",
   "metadata": {},
   "source": [
    "### Lettura delle fingerprints"
   ]
  },
  {
   "cell_type": "markdown",
   "id": "7371abdd",
   "metadata": {},
   "source": [
    "Ogni fingerprint deve essere su unica riga.\n",
    "\n",
    "**Esempio**:\n",
    "\n",
    "    ID 45 7 9 1 1 | 7 65 2 3 54 |\n",
    "    \n",
    "L'eventuale simbolo `|` separa i segmenti di fingerprint."
   ]
  },
  {
   "cell_type": "code",
   "execution_count": null,
   "id": "98e9f6ea",
   "metadata": {},
   "outputs": [],
   "source": [
    "begin_time = start_time = time.perf_counter()"
   ]
  },
  {
   "cell_type": "code",
   "execution_count": null,
   "id": "b9a3f4a1",
   "metadata": {},
   "outputs": [],
   "source": [
    "with open('./fingerprint_CFL_ICFL_COMB-30_s_300_noerr.txt', 'r') as input_file:\n",
    "    file_rows = input_file.readlines()"
   ]
  },
  {
   "cell_type": "code",
   "execution_count": null,
   "id": "0996eeab",
   "metadata": {},
   "outputs": [],
   "source": [
    "whole_rows = [re.findall(r'[^\\s|]+', row) for row in file_rows]"
   ]
  },
  {
   "cell_type": "markdown",
   "id": "658344c0",
   "metadata": {},
   "source": [
    "Determinare la lista delle fingerprint e degli identificatori dei reads."
   ]
  },
  {
   "cell_type": "code",
   "execution_count": null,
   "id": "6f0c61a1",
   "metadata": {},
   "outputs": [],
   "source": [
    "read_ids = []\n",
    "fingerprint_list = []\n",
    "\n",
    "for row in whole_rows:\n",
    "    read_ids.append(row.pop(0))\n",
    "    fingerprint_list.append(list(map(int, row)))"
   ]
  },
  {
   "cell_type": "code",
   "execution_count": null,
   "id": "2f8f7f96",
   "metadata": {},
   "outputs": [],
   "source": [
    "end_time = time.perf_counter()\n",
    "print('Upload the fingerprint: ', end_time-start_time)"
   ]
  },
  {
   "cell_type": "markdown",
   "id": "422670f7",
   "metadata": {},
   "source": [
    "Numero di fingerprints da processare."
   ]
  },
  {
   "cell_type": "code",
   "execution_count": null,
   "id": "bc8b247c",
   "metadata": {},
   "outputs": [],
   "source": [
    "len(fingerprint_list)"
   ]
  },
  {
   "cell_type": "markdown",
   "id": "b874fde2",
   "metadata": {},
   "source": [
    "### Dizionario delle occorrenze dei kmers unici aventi minima lunghezza totale\n",
    "\n",
    "a) Costruire un dizionario:\n",
    "- chiave: kmer\n",
    "- valore: lista di tuple `(read, start)`, dove `read` è la posizione di una fingerprint all'interno della lista delle fingerprint e `start` è la posizione 0-based di inizio dell'occorrenza del kmer \"chiave\" all'interno della fingerprint. Le tuple sono ordinate per valore crescente del valore `read` e poi per `start`.\n",
    "\n",
    "**NB**: un kmer viene rappresentato dalla stringa ottenuta concatenando le lunghezze con il separatore `_`. Ad esempio il kmer `(34,6,7,8)` viene rappresentato dalla stringa `34_6_7_8`"
   ]
  },
  {
   "cell_type": "code",
   "execution_count": null,
   "id": "cc533247",
   "metadata": {
    "scrolled": false
   },
   "outputs": [],
   "source": [
    "def compute_kmer_occurrences(fingerprint_list):\n",
    "    kmer_occurrences = {}\n",
    "\n",
    "    for (j,finger) in enumerate(fingerprint_list):\n",
    "        check_unique = []\n",
    "        occ_kmer_list = []\n",
    "        for (i,c) in enumerate(finger):        \n",
    "            kmer = tuple(finger[i:i+k])                \n",
    "            if len(kmer) == k:\n",
    "                check_unique.append(kmer)\n",
    "                occ_kmer_list.append((j,i,kmer))\n",
    "               \n",
    "        c = Counter(check_unique)\n",
    "    \n",
    "        for kmer_t in occ_kmer_list:\n",
    "            #if c[kmer_t[2]] == 1: \n",
    "            if c[kmer_t[2]] >= 1: \n",
    "                cfr_kmer = kmer_t[2]                                        \n",
    "                if sum(cfr_kmer) >= min_total_length:\n",
    "                    cfr_kmer = '_'.join(list((map(str, cfr_kmer))))                                         \n",
    "                    value = kmer_occurrences.get(cfr_kmer, [])\n",
    "                    value.append((kmer_t[0], kmer_t[1]))\n",
    "                    kmer_occurrences[cfr_kmer] = value\n",
    "                \n",
    "    for kmer in kmer_occurrences:\n",
    "        kmer_occurrences[kmer] = tuple(kmer_occurrences[kmer])\n",
    "        \n",
    "    return kmer_occurrences"
   ]
  },
  {
   "cell_type": "code",
   "execution_count": null,
   "id": "dec55ee7",
   "metadata": {},
   "outputs": [],
   "source": [
    "start_time = time.perf_counter()"
   ]
  },
  {
   "cell_type": "code",
   "execution_count": null,
   "id": "b191c205",
   "metadata": {},
   "outputs": [],
   "source": [
    "%time kmer_occurrences = compute_kmer_occurrences(fingerprint_list)"
   ]
  },
  {
   "cell_type": "code",
   "execution_count": null,
   "id": "d9c62cfb",
   "metadata": {},
   "outputs": [],
   "source": [
    "end_time = time.perf_counter()\n",
    "print('Computing the kmer occurrences: ', end_time-start_time)"
   ]
  },
  {
   "cell_type": "markdown",
   "id": "d2e4ff1c",
   "metadata": {},
   "source": [
    "Eliminare i kmer che occorrono una volta sola nel set dei reads oppure che occorrono troppe volte."
   ]
  },
  {
   "cell_type": "code",
   "execution_count": null,
   "id": "89c3b795",
   "metadata": {},
   "outputs": [],
   "source": [
    "h_kmer_occurrences = dict()\n",
    "for kmer in kmer_occurrences:\n",
    "    size = len(kmer_occurrences[kmer])\n",
    "    if size > 1 and (max_kmer_occurrence == -1 or size <= max_kmer_occurrence):\n",
    "        h_kmer_occurrences[kmer] = kmer_occurrences[kmer]\n",
    "            \n",
    "kmer_occurrences = h_kmer_occurrences"
   ]
  },
  {
   "cell_type": "markdown",
   "id": "c5ed8e3e",
   "metadata": {},
   "source": [
    "## Dizionari dei leftmost e rightmost kmers comuni\n",
    "\n",
    "Costruire i dizionari:\n",
    "\n",
    "- chiave: `(read1, read2)`\n",
    "- valore: `[start1, start2]`\n",
    "\n",
    "Nei dizionari \"leftmost\" e \"righttmost\" vengono memorizzati per ogni coppia `(read1, read2)` il leftmost e il rightmost (rispetto a `read1`) kmer comune, rispettivamente. \n",
    "\n",
    "**NB**: viene anche costruito il dizionario del numero di kmers condivisi da usare in seguito:\n",
    "- chiave: `(read1, read2)`\n",
    "- valore: numero di kmers unici condivisi"
   ]
  },
  {
   "cell_type": "code",
   "execution_count": null,
   "id": "b98cd7c4",
   "metadata": {},
   "outputs": [],
   "source": [
    "def compute_matches(kmer_occurrences):\n",
    "    min_sharing_dict = {}\n",
    "    matches_dict = {}\n",
    "\n",
    "    for (p, kmer) in enumerate(kmer_occurrences):\n",
    "        occ_list = kmer_occurrences[kmer]\n",
    "        for (i, first_occ) in enumerate(occ_list):\n",
    "            read1 = first_occ[0]\n",
    "            for second_occ in occ_list[i+1:]:\n",
    "                read2 = second_occ[0]\n",
    "                                                        \n",
    "                min_sharing_dict[(read1, read2)] = min_sharing_dict.get((read1, read2), 0) + 1            \n",
    "\n",
    "                value = matches_dict.get((read1, read2), [-1, -1, -1, -1])\n",
    "            \n",
    "                if value[0] == -1 or value[0] > first_occ[1]:\n",
    "                    value[0] = first_occ[1]\n",
    "                    value[1] = second_occ[1]\n",
    "                \n",
    "                if value[2] == -1 or value[2] < first_occ[1]:\n",
    "                    value[2] = first_occ[1]\n",
    "                    value[3] = second_occ[1]\n",
    "                \n",
    "                matches_dict[(read1, read2)] = value\n",
    "                \n",
    "    return (min_sharing_dict, matches_dict)"
   ]
  },
  {
   "cell_type": "code",
   "execution_count": null,
   "id": "d6d5d101",
   "metadata": {},
   "outputs": [],
   "source": [
    "start_time = time.perf_counter()"
   ]
  },
  {
   "cell_type": "code",
   "execution_count": null,
   "id": "53b338cd",
   "metadata": {
    "scrolled": true
   },
   "outputs": [],
   "source": [
    "%time (min_sharing_dict, matches_dict) = compute_matches(kmer_occurrences)"
   ]
  },
  {
   "cell_type": "code",
   "execution_count": null,
   "id": "88c1f61c",
   "metadata": {},
   "outputs": [],
   "source": [
    "end_time = time.perf_counter()\n",
    "print('Computing the matches: ', end_time-start_time)"
   ]
  },
  {
   "cell_type": "markdown",
   "id": "272eaa9a",
   "metadata": {},
   "source": [
    "---\n",
    "\n",
    "## Produrre in output le regioni comuni e gli overlaps\n",
    "\n",
    "Per ogni coppia di reads, si hanno a disposizione:\n",
    "\n",
    "- il leftmost kmer comune L\n",
    "- il rightmost kmer comune R\n",
    "\n",
    "Si deve verificare se L ed R danno origine a una regione comune (coppia di sottostringhe) sui due reads, che sarà la coppia di sottostringhe che partono da L e arrivano fino a R.\n",
    "\n",
    "Per costruzione, si ha che su `read1` lo start di L è sempre ≤ dello start di R.\n",
    "\n",
    "La regione comune viene prodotta in output solo se lo start di L su `read2` è ≤ dello start di R su `read2`. \n",
    "\n",
    "Da una regione comune viene prodotto un overlap se la regione copre a sufficienza l'overlap.\n",
    "\n",
    "Al termine, tutti gli overlaps vengono riconciliati e ogni overlap verrà prodotto come record dei campi seguenti:\n",
    "- id del primo read (senza il terminatore di strand)\n",
    "- lunghezza del primo read\n",
    "- posizione 0-based di inizio dell'overlap sul primo read\n",
    "- posizione 1-based di fine dell'overlap sul primo read\n",
    "- id del secondo read (senza il terminatore di strand)\n",
    "- lunghezza del secondo read\n",
    "- posizione 0-based di inizio dell'overlap sul secondo read\n",
    "- posizione 1-based di fine dell'overlap sul secondo read\n",
    "- strand del secondo read rispetto al primo (0: se uguale; 1: se opposto)"
   ]
  },
  {
   "cell_type": "markdown",
   "id": "ff8b073e",
   "metadata": {},
   "source": [
    "Calcolo e riconciliazione degli overlaps."
   ]
  },
  {
   "cell_type": "code",
   "execution_count": null,
   "id": "715cd0bb",
   "metadata": {
    "scrolled": true
   },
   "outputs": [],
   "source": [
    "overlap_dict = {}\n",
    "\n",
    "start_time = time.perf_counter()\n",
    "\n",
    "for (read1, read2) in matches_dict:  \n",
    "    if min_shared_kmers == 1 or min_sharing_dict[(read1, read2)] >= min_shared_kmers:\n",
    "        (first_match1, first_match2, second_match1, second_match2) = matches_dict[(read1, read2)]\n",
    "            \n",
    "        if second_match2 >= first_match2:\n",
    "            #print('here ', min_sharing_dict[(read1, read2)])\n",
    "            (start1, end1, start2, end2) = (first_match1, second_match1+k, first_match2, second_match2+k)\n",
    "\n",
    "            up1 = sum(fingerprint_list[read1][:start1])\n",
    "            up2 = sum(fingerprint_list[read2][:start2])   \n",
    "            l1 = sum(fingerprint_list[read1][start1:end1])\n",
    "            l2 = sum(fingerprint_list[read2][start2:end2])\n",
    "            read1_length = sum(fingerprint_list[read1])\n",
    "            read2_length = sum(fingerprint_list[read2])\n",
    "            \n",
    "            #min_region_kmer_coverage = 0.30\n",
    "            \n",
    "            min_cov_number = int(min_region_kmer_coverage * min(l1,l2) / min_total_length) \n",
    "            min_cov_number = min(min_cov_number, 15)\n",
    "            #print((read1, read2, min_cov_number, min_sharing_dict[(read1,read2)], min_cov_number, min_region_length))\n",
    "            #print(abs(l1-l2) <= max_diff_region_percentage * max(l1,l2))\n",
    "            #print(l1, ' ', l2)\n",
    "            #print('here ', abs(l1-l2))\n",
    "            if min_sharing_dict[(read1,read2)] >= min_cov_number and (abs(l1-l2) <= max_diff_region_percentage * max(l1,l2) and max(l1,l2) >= min_region_length):                                         \n",
    "                min_up = min(up1,up2)\n",
    "                start_ov1 = up1 - min_up\n",
    "                start_ov2 = up2 - min_up\n",
    "                min_down = min(read1_length-(up1+l1), read2_length-(up2+l2))\n",
    "                end_ov1 = up1 + l1 + min_down\n",
    "                end_ov2 = up2 + l2 + min_down\n",
    "                \n",
    "                ov_length = min(end_ov1-start_ov1, end_ov2-start_ov2) \n",
    "                #print((min(l1,l2)/ov_length, min(l1,l2), ov_length))\n",
    "                if min(l1,l2) >= min_overlap_coverage * ov_length and ov_length >= min_overlap_length:\n",
    "                    #print('OK ', (read1, read2))\n",
    "                    value = overlap_dict.get((read_ids[read1][:-2], read_ids[read2][:-2]), [])\n",
    "                    if value == [] or ov_length > value[-1]:\n",
    "                        value = [int(read_ids[read1][-1]), int(read_ids[read2][-1]), read1_length, read2_length, start_ov1, end_ov1, start_ov2, end_ov2, ov_length]                    \n",
    "                        overlap_dict[(read_ids[read1][:-2], read_ids[read2][:-2])] = value\n",
    "                                        \n",
    "end_time = time.perf_counter()\n",
    "print('Computing the overlaps: ', end_time-start_time)"
   ]
  },
  {
   "cell_type": "code",
   "execution_count": null,
   "id": "6f8796c7",
   "metadata": {},
   "outputs": [],
   "source": [
    "overlap_list = []\n",
    "\n",
    "for (read1, read2) in overlap_dict:\n",
    "    (flag1, flag2, length1, length2, start1, end1, start2, end2, ov_length) = overlap_dict[(read1, read2)]\n",
    "    strand = 0\n",
    "    if flag1 == 1:\n",
    "        if flag2 == 0:\n",
    "            (start2, end2) = (length2 - end2, length2 - start2)\n",
    "            strand = 1\n",
    "    else:\n",
    "        (start1, end1) = (length1 - end1, length1 - start1)\n",
    "        if flag2 == 0:\n",
    "            (start2, end2) = (length2 - end2, length2 - start2)\n",
    "        else:\n",
    "            strand = 1\n",
    "            \n",
    "    overlap_list.append((read1, read2, length1, length2, start1, end1, start2, end2, strand))        \n",
    "    #print('\\t'.join(map(str, [read1, read2, length1, length2, start1, end1, start2, end2, strand])))"
   ]
  },
  {
   "cell_type": "code",
   "execution_count": null,
   "id": "38404924",
   "metadata": {},
   "outputs": [],
   "source": [
    "end_time = time.perf_counter()\n",
    "print('Total: ', end_time-begin_time)"
   ]
  },
  {
   "cell_type": "markdown",
   "id": "281e98ef",
   "metadata": {},
   "source": [
    "Numero di overlaps in output:"
   ]
  },
  {
   "cell_type": "code",
   "execution_count": null,
   "id": "43da9575",
   "metadata": {},
   "outputs": [],
   "source": [
    "len(overlap_list)"
   ]
  },
  {
   "cell_type": "markdown",
   "id": "4bbceae3",
   "metadata": {},
   "source": [
    "Controlla se qualche read non è stato allineato."
   ]
  },
  {
   "cell_type": "code",
   "execution_count": null,
   "id": "c9311979",
   "metadata": {},
   "outputs": [],
   "source": [
    "read_number = len(read_ids) // 2"
   ]
  },
  {
   "cell_type": "code",
   "execution_count": null,
   "id": "c2deb568",
   "metadata": {},
   "outputs": [],
   "source": [
    "check_set = set(range(read_number))"
   ]
  },
  {
   "cell_type": "code",
   "execution_count": null,
   "id": "32d0ba35",
   "metadata": {},
   "outputs": [],
   "source": [
    "cfr_set = set()\n",
    "\n",
    "for t in overlap_dict:\n",
    "    cfr_set.add(t[0])\n",
    "    cfr_set.add(t[1])\n",
    "    \n",
    "cfr_set.difference(cfr_set)"
   ]
  },
  {
   "cell_type": "markdown",
   "id": "e69f996b",
   "metadata": {},
   "source": [
    "---\n",
    "\n",
    "Controlla i risultati"
   ]
  },
  {
   "cell_type": "code",
   "execution_count": null,
   "id": "1e4ddf8b",
   "metadata": {},
   "outputs": [],
   "source": [
    "import Bio\n",
    "from Bio.Seq import Seq"
   ]
  },
  {
   "cell_type": "code",
   "execution_count": null,
   "id": "b6344663",
   "metadata": {},
   "outputs": [],
   "source": [
    "with open('./sampled_read-noerr.fasta', 'r') as in_sequence:\n",
    "    file_seq = in_sequence.read()\n",
    "    \n",
    "file_seq = re.findall(r'[^>]+', file_seq)\n",
    "file_seq = [re.findall(r'.+', seq) for seq in file_seq]\n",
    "read_seq_list = [seq[1] for seq in file_seq]"
   ]
  },
  {
   "cell_type": "raw",
   "id": "9164cc5e",
   "metadata": {},
   "source": [
    "with open('./output-full-raw-overlaps.txt', 'r') as cfr_sequence:\n",
    "    file_rows = cfr_sequence.readlines()\n",
    "    \n",
    "old_pair_list = [(row.rstrip().split()[0], row.rstrip().split()[6], row.rstrip()) for row in file_rows]"
   ]
  },
  {
   "cell_type": "raw",
   "id": "f949512c",
   "metadata": {},
   "source": [
    "for (i, ov) in enumerate(old_pair_list):\n",
    "    if (ov[0], ov[1]) not in overlap_dict:\n",
    "        print(ov)\n",
    "    if i == 200:\n",
    "        break"
   ]
  },
  {
   "cell_type": "code",
   "execution_count": null,
   "id": "6cc9e091",
   "metadata": {
    "scrolled": true
   },
   "outputs": [],
   "source": [
    "print_first = -1\n",
    "which_strand = [0,1]\n",
    "\n",
    "max_diff_length = -1\n",
    "min_ov_length = -1\n",
    "\n",
    "count = 0\n",
    "min_count = 0\n",
    "\n",
    "for r in overlap_list:\n",
    "    read1 = int(r[0])\n",
    "    read2 = int(r[1])\n",
    "    (start1, end1, start2, end2, strand) = (r[4], r[5], r[6], r[7], r[8])\n",
    "    if strand in which_strand:\n",
    "        seq1 = read_seq_list[read1][start1:end1]\n",
    "        seq2 = read_seq_list[read2][start2:end2]\n",
    "        if (seq1 != seq2):\n",
    "            print(read1, ' ', read2, ' diff ', min(len(seq1), len(seq2)))\n",
    "            if max_diff_length == -1 or min(len(seq1), len(seq2)) > max_diff_length:\n",
    "                max_diff_length = min(len(seq1), len(seq2))\n",
    "            else:\n",
    "                if min_ov_length == -1 or min(len(seq1), len(seq2)) < min_ov_length:\n",
    "                    min_ov_length = min(len(seq1), len(seq2))\n",
    "                \n",
    "                if min(len(seq1), len(seq2)) <= min_overlap_length:\n",
    "                    min_count = min_count + 1\n",
    "        \n",
    "        if strand == 1:\n",
    "            seq2 = str(Seq(seq2).reverse_complement())\n",
    "        \n",
    "        chunk1 = re.findall(r'(.{,60})', seq1)\n",
    "        chunk2 = re.findall(r'(.{,60})', seq2)\n",
    "\n",
    "        if read1 == -1 and read2 == -1:\n",
    "            print(r)\n",
    "        \n",
    "            for (i, c) in enumerate(chunk1):\n",
    "                print(c)\n",
    "                print(chunk2[i])\n",
    "                print()\n",
    "            \n",
    "        count = count + 1\n",
    "    \n",
    "    if count == print_first:\n",
    "        break"
   ]
  },
  {
   "cell_type": "code",
   "execution_count": null,
   "id": "390584c6",
   "metadata": {},
   "outputs": [],
   "source": []
  },
  {
   "cell_type": "code",
   "execution_count": null,
   "id": "3789123f",
   "metadata": {},
   "outputs": [],
   "source": []
  }
 ],
 "metadata": {
  "kernelspec": {
   "display_name": "Python 3 (ipykernel)",
   "language": "python",
   "name": "python3"
  },
  "language_info": {
   "codemirror_mode": {
    "name": "ipython",
    "version": 3
   },
   "file_extension": ".py",
   "mimetype": "text/x-python",
   "name": "python",
   "nbconvert_exporter": "python",
   "pygments_lexer": "ipython3",
   "version": "3.9.15"
  }
 },
 "nbformat": 4,
 "nbformat_minor": 5
}
